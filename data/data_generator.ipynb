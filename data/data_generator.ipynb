{
 "cells": [
  {
   "cell_type": "code",
   "execution_count": 6,
   "metadata": {},
   "outputs": [
    {
     "data": {
      "text/plain": [
       "('symptoms.json', 'conditions.json', 'links.json')"
      ]
     },
     "execution_count": 6,
     "metadata": {},
     "output_type": "execute_result"
    }
   ],
   "source": [
    "import json\n",
    "from random import choice, randint, uniform\n",
    "from pathlib import Path\n",
    "\n",
    "# Simulated symptom entries from HPO-style data\n",
    "symptoms = [\n",
    "    {\"id\": \"HP_0002090\", \"name\": \"Cough\", \"synonyms\": [\"Tussis\", \"Persistent cough\"]},\n",
    "    {\"id\": \"HP_0001945\", \"name\": \"Fever\", \"synonyms\": [\"Pyrexia\", \"Elevated temperature\"]},\n",
    "    {\"id\": \"HP_0001250\", \"name\": \"Seizure\", \"synonyms\": [\"Convulsion\", \"Epileptic seizure\"]},\n",
    "    {\"id\": \"HP_0002011\", \"name\": \"Nausea\", \"synonyms\": [\"Queasiness\"]},\n",
    "    {\"id\": \"HP_0001627\", \"name\": \"Chest pain\", \"synonyms\": [\"Thoracic pain\"]},\n",
    "    {\"id\": \"HP_0002355\", \"name\": \"Fatigue\", \"synonyms\": [\"Tiredness\", \"Exhaustion\"]},\n",
    "    {\"id\": \"HP_0000739\", \"name\": \"Anxiety\", \"synonyms\": [\"Nervousness\", \"Restlessness\"]},\n",
    "    {\"id\": \"HP_0002591\", \"name\": \"Weight loss\", \"synonyms\": [\"Decreased body weight\"]},\n",
    "    {\"id\": \"HP_0002237\", \"name\": \"Sore throat\", \"synonyms\": [\"Throat pain\"]},\n",
    "    {\"id\": \"HP_0002105\", \"name\": \"Shortness of breath\", \"synonyms\": [\"Dyspnea\"]},\n",
    "    {\"id\": \"HP_0002315\", \"name\": \"Headache\", \"synonyms\": [\"Cephalalgia\"]},\n",
    "    {\"id\": \"HP_0001947\", \"name\": \"Vomiting\", \"synonyms\": [\"Emesis\"]},\n",
    "    {\"id\": \"HP_0001873\", \"name\": \"Bleeding\", \"synonyms\": [\"Hemorrhage\"]},\n",
    "    {\"id\": \"HP_0001871\", \"name\": \"Bruising\", \"synonyms\": [\"Ecchymosis\"]},\n",
    "    {\"id\": \"HP_0002013\", \"name\": \"Abdominal pain\", \"synonyms\": [\"Stomach ache\"]},\n",
    "    {\"id\": \"HP_0002354\", \"name\": \"Insomnia\", \"synonyms\": [\"Sleeplessness\"]},\n",
    "    {\"id\": \"HP_0002326\", \"name\": \"Dizziness\", \"synonyms\": [\"Lightheadedness\"]},\n",
    "    {\"id\": \"HP_0001251\", \"name\": \"Memory loss\", \"synonyms\": [\"Amnesia\"]},\n",
    "    {\"id\": \"HP_0001882\", \"name\": \"Diarrhea\", \"synonyms\": [\"Frequent stools\"]},\n",
    "    {\"id\": \"HP_0000736\", \"name\": \"Depression\", \"synonyms\": [\"Low mood\"]},\n",
    "]\n",
    "\n",
    "# Simulated conditions\n",
    "conditions = [\n",
    "    {\n",
    "        \"id\": \"COND001\",\n",
    "        \"name\": \"Tuberculosis\",\n",
    "        \"description\": \"Infectious disease caused by Mycobacterium tuberculosis.\",\n",
    "        \"demographic_relevance\": {\"age_range\": \"10-60\", \"gender\": \"all\"}\n",
    "    },\n",
    "    {\n",
    "        \"id\": \"COND002\",\n",
    "        \"name\": \"Anemia\",\n",
    "        \"description\": \"Condition with decreased red blood cell count or hemoglobin.\",\n",
    "        \"demographic_relevance\": {\"age_range\": \"0-100\", \"gender\": \"all\"}\n",
    "    },\n",
    "    {\n",
    "        \"id\": \"COND003\",\n",
    "        \"name\": \"Generalized Anxiety Disorder\",\n",
    "        \"description\": \"Persistent and excessive worry about different things.\",\n",
    "        \"demographic_relevance\": {\"age_range\": \"15-80\", \"gender\": \"all\"}\n",
    "    },\n",
    "    {\n",
    "        \"id\": \"COND004\",\n",
    "        \"name\": \"COVID-19\",\n",
    "        \"description\": \"Viral respiratory infection caused by SARS-CoV-2.\",\n",
    "        \"demographic_relevance\": {\"age_range\": \"0-100\", \"gender\": \"all\"}\n",
    "    },\n",
    "    {\n",
    "        \"id\": \"COND005\",\n",
    "        \"name\": \"Migraine\",\n",
    "        \"description\": \"Recurrent headaches often accompanied by nausea and light sensitivity.\",\n",
    "        \"demographic_relevance\": {\"age_range\": \"10-70\", \"gender\": \"all\"}\n",
    "    }\n",
    "]\n",
    "\n",
    "# Generate symptom-condition links with random weights\n",
    "links = []\n",
    "for symptom in symptoms:\n",
    "    for _ in range(randint(1, 3)):\n",
    "        condition = choice(conditions)\n",
    "        links.append({\n",
    "            \"symptom_id\": symptom[\"id\"],\n",
    "            \"condition_id\": condition[\"id\"],\n",
    "            \"relationship_type\": choice([\"indicative_of\", \"supportive_of\"]),\n",
    "            \"weight\": round(uniform(0.4, 1.0), 2)\n",
    "        })\n",
    "\n",
    "# Save to files\n",
    "output_dir = Path(\"/Users/samadeepsengupta/Library/Mobile Documents/com~apple~CloudDocs/ACADEMIC/CSE'25/Sem 8/NLP/aod-based-semantic/semantic-symptom-search/data\")\n",
    "output_dir.mkdir(parents=True, exist_ok=True)\n",
    "\n",
    "(symptom_path := output_dir / \"symptoms.json\").write_text(json.dumps(symptoms, indent=2))\n",
    "(condition_path := output_dir / \"conditions.json\").write_text(json.dumps(conditions, indent=2))\n",
    "(link_path := output_dir / \"links.json\").write_text(json.dumps(links, indent=2))\n",
    "\n",
    "symptom_path.name, condition_path.name, link_path.name"
   ]
  },
  {
   "cell_type": "code",
   "execution_count": null,
   "metadata": {},
   "outputs": [],
   "source": []
  }
 ],
 "metadata": {
  "kernelspec": {
   "display_name": "Python 3",
   "language": "python",
   "name": "python3"
  },
  "language_info": {
   "codemirror_mode": {
    "name": "ipython",
    "version": 3
   },
   "file_extension": ".py",
   "mimetype": "text/x-python",
   "name": "python",
   "nbconvert_exporter": "python",
   "pygments_lexer": "ipython3",
   "version": "3.11.1"
  }
 },
 "nbformat": 4,
 "nbformat_minor": 2
}
